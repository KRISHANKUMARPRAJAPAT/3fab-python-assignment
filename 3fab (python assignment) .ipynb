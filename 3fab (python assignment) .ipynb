{
 "cells": [
  {
   "cell_type": "markdown",
   "id": "28d1b42b-4a65-445b-81fd-b71a8c16b811",
   "metadata": {},
   "source": [
    "#### Q.1 Which keyword is used to create a function? Create a function to return a list of odd numbers in the range of 1 to 25"
   ]
  },
  {
   "cell_type": "markdown",
   "id": "acb588eb-ea0e-49a7-a8a1-cb63120f1f50",
   "metadata": {},
   "source": [
    "#Ans:1   the keyword To create a function in Python is \"def\""
   ]
  },
  {
   "cell_type": "code",
   "execution_count": 5,
   "id": "07d18a7b-6bf5-4619-8d30-2ed08b32c7e7",
   "metadata": {},
   "outputs": [],
   "source": [
    "def get_odd_numbers():\n",
    "    odd_numbers = []\n",
    "    for i in range(1, 26):\n",
    "        if i % 2 != 0:\n",
    "            odd_numbers.append(i)\n",
    "    return odd_numbers\n"
   ]
  },
  {
   "cell_type": "code",
   "execution_count": 6,
   "id": "9c4a9d42-a108-4ba2-a015-c1fab926ffba",
   "metadata": {},
   "outputs": [
    {
     "name": "stdout",
     "output_type": "stream",
     "text": [
      "[1, 3, 5, 7, 9, 11, 13, 15, 17, 19, 21, 23, 25]\n"
     ]
    }
   ],
   "source": [
    "odd_numbers = get_odd_numbers()\n",
    "print(odd_numbers) "
   ]
  },
  {
   "cell_type": "markdown",
   "id": "450a8c1d-19ca-4d1d-86b6-a60e3029e9c5",
   "metadata": {},
   "source": [
    "#### Q.2 Why *args and **kwargs is used in some functions? Create a function each for *args and **kwargs to demonstrate their use.\n"
   ]
  },
  {
   "cell_type": "markdown",
   "id": "04899395-36b7-4e07-9e58-1a3a6979c1fa",
   "metadata": {},
   "source": [
    "#Ans:2    \n",
    "    *args and **kwargs are used in some functions in Python to make the function more flexible and to allow the function to accept a variable number of arguments.\n",
    "\n",
    "*args is used to pass a variable number of non-keyworded arguments to a function. \n",
    "*args allows you to pass any number of positional arguments to the function as a tuple.\n",
    "\n",
    "**kwargs is used to pass a variable number of keyword arguments to a function.\n",
    "**kwargs allows you to pass any number of keyword arguments to the function as a dictionary."
   ]
  },
  {
   "cell_type": "code",
   "execution_count": 11,
   "id": "78ed9dc2-0464-4479-b1ea-e21230d37019",
   "metadata": {},
   "outputs": [
    {
     "name": "stdout",
     "output_type": "stream",
     "text": [
      "1\n",
      "2\n",
      "3\n",
      "krish\n"
     ]
    }
   ],
   "source": [
    "#an example of function using *args:\n",
    "def printa_args(*args):\n",
    "    for i in args:\n",
    "        print(i)\n",
    "\n",
    "print_args(1, 2, 3, 'krish')"
   ]
  },
  {
   "cell_type": "code",
   "execution_count": 16,
   "id": "e76efdad-c751-4dbd-a1b6-cc7d5554f9cb",
   "metadata": {},
   "outputs": [
    {
     "name": "stdout",
     "output_type": "stream",
     "text": [
      "name: krishna kumar\n",
      "age: 22\n",
      "city: Rajasthan\n"
     ]
    }
   ],
   "source": [
    "#an example of function using **kwargs:\n",
    "def print_kwargs(**kwargs):\n",
    "    for key, value in kwargs.items():\n",
    "        print(f'{key}: {value}')\n",
    "\n",
    "print_kwargs(name='krishna kumar', age=22, city='Rajasthan')  "
   ]
  },
  {
   "cell_type": "markdown",
   "id": "db47930d-d12f-400f-9524-3cb5ba072e1e",
   "metadata": {},
   "source": [
    "#### Q.3 What is an iterator in python? Name the method used to initialise the iterator object and the method used for iteration. Use these methods to print the first five elements of the given list [2, 4, 6, 8, 10, 12, 14, 16, 18, 20].\n"
   ]
  },
  {
   "cell_type": "markdown",
   "id": "a0d986e4-4dee-4b27-98fb-05e6281a55d2",
   "metadata": {},
   "source": [
    "#Ans:3   \n",
    " an iterator is an object that allows you to traverse through a sequence of values, one at a time. \n",
    "an iterator is an object that implements the iterator protocol, which consists of the methods _iter_() and _next_()\n",
    "\n",
    "\n",
    "The _iter_() method initializes the iterator object and returns the iterator object itself\n",
    "\n",
    "The _next_() method returns the next value from the iterator."
   ]
  },
  {
   "cell_type": "code",
   "execution_count": 2,
   "id": "26a4a104-d817-48cd-b83f-239de24ef246",
   "metadata": {},
   "outputs": [
    {
     "name": "stdout",
     "output_type": "stream",
     "text": [
      "2\n",
      "4\n",
      "6\n",
      "8\n",
      "10\n"
     ]
    }
   ],
   "source": [
    "l1 = [2,4,6,8,10,12,14,16,18,20]\n",
    "my_iterator = iter(l1)\n",
    "for i in range(5):\n",
    "    print(next(my_iterator))\n"
   ]
  },
  {
   "cell_type": "markdown",
   "id": "fdc5cb76-fc22-4340-9960-d013a389dc2f",
   "metadata": {},
   "source": [
    "#### Q.4 What is a generator function in python? Why yield keyword is used? Give an example of a generator function"
   ]
  },
  {
   "cell_type": "markdown",
   "id": "49c9fc1e-c8c7-4e1d-b58b-f9f6e19a19ee",
   "metadata": {},
   "source": [
    "#Ans:4  \n",
    "\n",
    "A generator function in Python is a type of function that can pause and resume its execution, allowing it to produce a sequence of values over time. Unlike regular functions that return a value and terminate, generator functions use the yield keyword to produce a value and suspend their execution until the next value is requested. \n",
    "\n",
    "The yield keyword is used because it allows generator functions to be more memory-efficient and to produce infinite or very large sequences without running out of memory."
   ]
  },
  {
   "cell_type": "code",
   "execution_count": 10,
   "id": "6d7d86ec-4706-4182-a35a-0f20bba71436",
   "metadata": {},
   "outputs": [],
   "source": [
    "#here is an example of generator function:\n",
    "def count_up_to(n):\n",
    "    i = 1\n",
    "    while i <= n:\n",
    "        yield i\n",
    "        i += 1\n"
   ]
  },
  {
   "cell_type": "code",
   "execution_count": 11,
   "id": "6f0ebfdb-9d86-41af-849c-756e54f291b7",
   "metadata": {},
   "outputs": [
    {
     "name": "stdout",
     "output_type": "stream",
     "text": [
      "1\n",
      "2\n",
      "3\n",
      "4\n",
      "5\n"
     ]
    }
   ],
   "source": [
    "for i in count_up_to(5):\n",
    "    print(i)\n"
   ]
  },
  {
   "cell_type": "markdown",
   "id": "b3856b78-2634-4707-a749-8d0b64fb2980",
   "metadata": {},
   "source": [
    "#### Q.5 Create a generator function for prime numbers less than 1000. Use the next() method to print the first 20 prime numbers."
   ]
  },
  {
   "cell_type": "code",
   "execution_count": 27,
   "id": "69eb844f-5f55-4104-97c3-de7eaf53474d",
   "metadata": {},
   "outputs": [],
   "source": [
    "#Ans:5\n",
    "def generate_primes():\n",
    "    primes = []\n",
    "    num = 2\n",
    "    while num < 1000:\n",
    "        is_prime = True\n",
    "        for prime in primes:\n",
    "            if num % prime == 0:\n",
    "                is_prime = False\n",
    "                break\n",
    "        if is_prime:\n",
    "            primes.append(num)\n",
    "            yield num\n",
    "        num += 1\n"
   ]
  },
  {
   "cell_type": "code",
   "execution_count": 28,
   "id": "f88b3b91-0d0c-43e5-a278-a41b72c1cc44",
   "metadata": {},
   "outputs": [
    {
     "name": "stdout",
     "output_type": "stream",
     "text": [
      "2\n",
      "3\n",
      "5\n",
      "7\n",
      "11\n",
      "13\n",
      "17\n",
      "19\n",
      "23\n",
      "29\n",
      "31\n",
      "37\n",
      "41\n",
      "43\n",
      "47\n",
      "53\n",
      "59\n",
      "61\n",
      "67\n",
      "71\n"
     ]
    }
   ],
   "source": [
    "prime_generator = generate_primes()\n",
    "for i in range(20):\n",
    "    print(next(prime_generator))\n"
   ]
  },
  {
   "cell_type": "markdown",
   "id": "33b29971-a6ab-4296-afd0-203a61514bdd",
   "metadata": {},
   "source": [
    "### Q.6 Write a python program to print the first 10 Fibonacci numbers using a while loop."
   ]
  },
  {
   "cell_type": "code",
   "execution_count": 29,
   "id": "288e14c0-d6c0-479a-bb3f-ca0390636271",
   "metadata": {},
   "outputs": [
    {
     "name": "stdin",
     "output_type": "stream",
     "text": [
      "enter the number of element you are looking for 20\n"
     ]
    },
    {
     "name": "stdout",
     "output_type": "stream",
     "text": [
      "0\n",
      "1\n",
      "1\n",
      "2\n",
      "3\n",
      "5\n",
      "8\n",
      "13\n",
      "21\n",
      "34\n",
      "55\n",
      "89\n",
      "144\n",
      "233\n",
      "377\n",
      "610\n",
      "987\n",
      "1597\n",
      "2584\n",
      "4181\n"
     ]
    }
   ],
   "source": [
    "#Ans:6\n",
    "number = int(input('enter the number of element you are looking for'))\n",
    "a, b   = 0, 1\n",
    "counter = 0\n",
    "while counter < number :\n",
    "    print(a)\n",
    "    c= a+b\n",
    "    a = b\n",
    "    b = c\n",
    "    counter = counter +1"
   ]
  },
  {
   "cell_type": "markdown",
   "id": "f674c733-c823-46a5-8082-f345a553c9de",
   "metadata": {},
   "source": [
    "##### Q.7 Write a List Comprehension to iterate through the given string: ‘pwskills’.Expected output:['p', 'w', 's', 'k', 'i', 'l', 'l', 's']"
   ]
  },
  {
   "cell_type": "code",
   "execution_count": 32,
   "id": "33085f0b-cd2b-4fee-9408-b95cb5e3ca75",
   "metadata": {},
   "outputs": [
    {
     "name": "stdout",
     "output_type": "stream",
     "text": [
      "['p', 'w', 's', 'k', 'i', 'l', 'l', 's']\n"
     ]
    }
   ],
   "source": [
    "#Ans:7\n",
    "s = 'pwskills'\n",
    "result = [char for char in s if char in 'pwskills']\n",
    "print(result)\n"
   ]
  },
  {
   "cell_type": "markdown",
   "id": "68b01113-054c-485c-85dd-0544b2d3da36",
   "metadata": {},
   "source": [
    "## Q.8 Write a python program to check whether a given number is Palindrome or not using a while loop.\n"
   ]
  },
  {
   "cell_type": "code",
   "execution_count": 34,
   "id": "677bf6d8-9448-446f-92b0-bd8e32562ddc",
   "metadata": {},
   "outputs": [
    {
     "name": "stdin",
     "output_type": "stream",
     "text": [
      "Enter a number:  5\n"
     ]
    },
    {
     "name": "stdout",
     "output_type": "stream",
     "text": [
      "The number is a palindrome.\n"
     ]
    }
   ],
   "source": [
    "#Ans:8\n",
    "num = int(input(\"Enter a number: \"))\n",
    "original_num = num\n",
    "reverse_num = 0\n",
    "\n",
    "while num > 0:\n",
    "    remainder = num % 10\n",
    "    reverse_num = (reverse_num * 10) + remainder\n",
    "    num = num // 10\n",
    "\n",
    "if original_num == reverse_num:\n",
    "    print(\"The number is a palindrome.\")\n",
    "else:\n",
    "    print(\"The number is not a palindrome.\")\n"
   ]
  },
  {
   "cell_type": "code",
   "execution_count": 35,
   "id": "13502e28-f305-44a6-9e0c-8d10e252c778",
   "metadata": {},
   "outputs": [
    {
     "name": "stdin",
     "output_type": "stream",
     "text": [
      "Enter a number:  15\n"
     ]
    },
    {
     "name": "stdout",
     "output_type": "stream",
     "text": [
      "The number is not a palindrome.\n"
     ]
    }
   ],
   "source": [
    "num = int(input(\"Enter a number: \"))\n",
    "original_num = num\n",
    "reverse_num = 0\n",
    "\n",
    "while num > 0:\n",
    "    remainder = num % 10\n",
    "    reverse_num = (reverse_num * 10) + remainder\n",
    "    num = num // 10\n",
    "\n",
    "if original_num == reverse_num:\n",
    "    print(\"The number is a palindrome.\")\n",
    "else:\n",
    "    print(\"The number is not a palindrome.\")\n"
   ]
  },
  {
   "cell_type": "markdown",
   "id": "cb69cb72-fff2-42ec-9044-b161076901ef",
   "metadata": {},
   "source": [
    "### Q.9 Write a code to print odd numbers from 1 to 100 using list comprehension."
   ]
  },
  {
   "cell_type": "code",
   "execution_count": 39,
   "id": "c4592f1b-7211-4f02-afbf-715601e2b839",
   "metadata": {},
   "outputs": [
    {
     "name": "stdout",
     "output_type": "stream",
     "text": [
      "[1, 3, 5, 7, 9, 11, 13, 15, 17, 19, 21, 23, 25, 27, 29, 31, 33, 35, 37, 39, 41, 43, 45, 47, 49, 51, 53, 55, 57, 59, 61, 63, 65, 67, 69, 71, 73, 75, 77, 79, 81, 83, 85, 87, 89, 91, 93, 95, 97, 99]\n"
     ]
    }
   ],
   "source": [
    "#Ans:9\n",
    "odd_numbers = [num for num in range(1,101) if num % 2]\n",
    "print(odd_numbers)\n"
   ]
  },
  {
   "cell_type": "code",
   "execution_count": null,
   "id": "352d326d-b7c8-45a8-bff0-2d049dc324c8",
   "metadata": {},
   "outputs": [],
   "source": []
  }
 ],
 "metadata": {
  "kernelspec": {
   "display_name": "Python 3 (ipykernel)",
   "language": "python",
   "name": "python3"
  },
  "language_info": {
   "codemirror_mode": {
    "name": "ipython",
    "version": 3
   },
   "file_extension": ".py",
   "mimetype": "text/x-python",
   "name": "python",
   "nbconvert_exporter": "python",
   "pygments_lexer": "ipython3",
   "version": "3.10.8"
  }
 },
 "nbformat": 4,
 "nbformat_minor": 5
}
